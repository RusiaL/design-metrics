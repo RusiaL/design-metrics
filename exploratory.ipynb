{
 "cells": [
  {
   "cell_type": "code",
   "execution_count": 1,
   "id": "edd584b2",
   "metadata": {},
   "outputs": [],
   "source": [
    "import pandas as pd"
   ]
  },
  {
   "cell_type": "code",
   "execution_count": 2,
   "id": "4a087b9b",
   "metadata": {},
   "outputs": [
    {
     "data": {
      "text/html": [
       "<div>\n",
       "<style scoped>\n",
       "    .dataframe tbody tr th:only-of-type {\n",
       "        vertical-align: middle;\n",
       "    }\n",
       "\n",
       "    .dataframe tbody tr th {\n",
       "        vertical-align: top;\n",
       "    }\n",
       "\n",
       "    .dataframe thead th {\n",
       "        text-align: right;\n",
       "    }\n",
       "</style>\n",
       "<table border=\"1\" class=\"dataframe\">\n",
       "  <thead>\n",
       "    <tr style=\"text-align: right;\">\n",
       "      <th></th>\n",
       "      <th>Project</th>\n",
       "      <th>ID</th>\n",
       "      <th>Name</th>\n",
       "      <th>LongName</th>\n",
       "      <th>Parent</th>\n",
       "      <th>Component</th>\n",
       "      <th>Path</th>\n",
       "      <th>Line</th>\n",
       "      <th>Column</th>\n",
       "      <th>EndLine</th>\n",
       "      <th>...</th>\n",
       "      <th>Documentation Metric Rules</th>\n",
       "      <th>Documentation Rules</th>\n",
       "      <th>Error Prone Rules</th>\n",
       "      <th>Inheritance Metric Rules</th>\n",
       "      <th>Multithreading Rules</th>\n",
       "      <th>Performance Rules</th>\n",
       "      <th>Security Rules</th>\n",
       "      <th>Size Metric Rules</th>\n",
       "      <th>isDefective</th>\n",
       "      <th>Unnamed: 92</th>\n",
       "    </tr>\n",
       "  </thead>\n",
       "  <tbody>\n",
       "    <tr>\n",
       "      <th>0</th>\n",
       "      <td>antlr4</td>\n",
       "      <td>L134</td>\n",
       "      <td>Tool</td>\n",
       "      <td>org.antlr.v4.Tool</td>\n",
       "      <td>L500</td>\n",
       "      <td>L103</td>\n",
       "      <td>C:\\Users\\domco\\Desktop\\DP\\repos\\antlr4\\tool\\sr...</td>\n",
       "      <td>89</td>\n",
       "      <td>1</td>\n",
       "      <td>859</td>\n",
       "      <td>...</td>\n",
       "      <td>80</td>\n",
       "      <td>0</td>\n",
       "      <td>4</td>\n",
       "      <td>0</td>\n",
       "      <td>0</td>\n",
       "      <td>18</td>\n",
       "      <td>0</td>\n",
       "      <td>21</td>\n",
       "      <td>1</td>\n",
       "      <td>NaN</td>\n",
       "    </tr>\n",
       "    <tr>\n",
       "      <th>1</th>\n",
       "      <td>antlr4</td>\n",
       "      <td>L125</td>\n",
       "      <td>Antlr4ErrorLog</td>\n",
       "      <td>org.antlr.mojo.antlr4.Antlr4ErrorLog</td>\n",
       "      <td>L107</td>\n",
       "      <td>L103</td>\n",
       "      <td>C:\\Users\\domco\\Desktop\\DP\\repos\\antlr4\\antlr4-...</td>\n",
       "      <td>47</td>\n",
       "      <td>1</td>\n",
       "      <td>124</td>\n",
       "      <td>...</td>\n",
       "      <td>0</td>\n",
       "      <td>0</td>\n",
       "      <td>0</td>\n",
       "      <td>0</td>\n",
       "      <td>0</td>\n",
       "      <td>0</td>\n",
       "      <td>0</td>\n",
       "      <td>0</td>\n",
       "      <td>0</td>\n",
       "      <td>NaN</td>\n",
       "    </tr>\n",
       "    <tr>\n",
       "      <th>2</th>\n",
       "      <td>antlr4</td>\n",
       "      <td>L199</td>\n",
       "      <td>Antlr4Mojo</td>\n",
       "      <td>org.antlr.mojo.antlr4.Antlr4Mojo</td>\n",
       "      <td>L107</td>\n",
       "      <td>L103</td>\n",
       "      <td>C:\\Users\\domco\\Desktop\\DP\\repos\\antlr4\\antlr4-...</td>\n",
       "      <td>77</td>\n",
       "      <td>1</td>\n",
       "      <td>505</td>\n",
       "      <td>...</td>\n",
       "      <td>26</td>\n",
       "      <td>0</td>\n",
       "      <td>2</td>\n",
       "      <td>0</td>\n",
       "      <td>0</td>\n",
       "      <td>1</td>\n",
       "      <td>0</td>\n",
       "      <td>10</td>\n",
       "      <td>0</td>\n",
       "      <td>NaN</td>\n",
       "    </tr>\n",
       "    <tr>\n",
       "      <th>3</th>\n",
       "      <td>antlr4</td>\n",
       "      <td>L643</td>\n",
       "      <td>ANTLRFileStream</td>\n",
       "      <td>org.antlr.v4.runtime.ANTLRFileStream</td>\n",
       "      <td>L507</td>\n",
       "      <td>L103</td>\n",
       "      <td>C:\\Users\\domco\\Desktop\\DP\\repos\\antlr4\\runtime...</td>\n",
       "      <td>42</td>\n",
       "      <td>1</td>\n",
       "      <td>86</td>\n",
       "      <td>...</td>\n",
       "      <td>11</td>\n",
       "      <td>0</td>\n",
       "      <td>1</td>\n",
       "      <td>0</td>\n",
       "      <td>0</td>\n",
       "      <td>1</td>\n",
       "      <td>0</td>\n",
       "      <td>2</td>\n",
       "      <td>0</td>\n",
       "      <td>NaN</td>\n",
       "    </tr>\n",
       "    <tr>\n",
       "      <th>4</th>\n",
       "      <td>antlr4</td>\n",
       "      <td>L645</td>\n",
       "      <td>ANTLRInputStream</td>\n",
       "      <td>org.antlr.v4.runtime.ANTLRInputStream</td>\n",
       "      <td>L507</td>\n",
       "      <td>L103</td>\n",
       "      <td>C:\\Users\\domco\\Desktop\\DP\\repos\\antlr4\\runtime...</td>\n",
       "      <td>47</td>\n",
       "      <td>1</td>\n",
       "      <td>246</td>\n",
       "      <td>...</td>\n",
       "      <td>33</td>\n",
       "      <td>2</td>\n",
       "      <td>0</td>\n",
       "      <td>0</td>\n",
       "      <td>0</td>\n",
       "      <td>1</td>\n",
       "      <td>0</td>\n",
       "      <td>7</td>\n",
       "      <td>0</td>\n",
       "      <td>NaN</td>\n",
       "    </tr>\n",
       "  </tbody>\n",
       "</table>\n",
       "<p>5 rows × 93 columns</p>\n",
       "</div>"
      ],
      "text/plain": [
       "  Project    ID              Name                               LongName  \\\n",
       "0  antlr4  L134              Tool                      org.antlr.v4.Tool   \n",
       "1  antlr4  L125    Antlr4ErrorLog   org.antlr.mojo.antlr4.Antlr4ErrorLog   \n",
       "2  antlr4  L199        Antlr4Mojo       org.antlr.mojo.antlr4.Antlr4Mojo   \n",
       "3  antlr4  L643   ANTLRFileStream   org.antlr.v4.runtime.ANTLRFileStream   \n",
       "4  antlr4  L645  ANTLRInputStream  org.antlr.v4.runtime.ANTLRInputStream   \n",
       "\n",
       "  Parent Component                                               Path  Line  \\\n",
       "0   L500      L103  C:\\Users\\domco\\Desktop\\DP\\repos\\antlr4\\tool\\sr...    89   \n",
       "1   L107      L103  C:\\Users\\domco\\Desktop\\DP\\repos\\antlr4\\antlr4-...    47   \n",
       "2   L107      L103  C:\\Users\\domco\\Desktop\\DP\\repos\\antlr4\\antlr4-...    77   \n",
       "3   L507      L103  C:\\Users\\domco\\Desktop\\DP\\repos\\antlr4\\runtime...    42   \n",
       "4   L507      L103  C:\\Users\\domco\\Desktop\\DP\\repos\\antlr4\\runtime...    47   \n",
       "\n",
       "   Column  EndLine  ...  Documentation Metric Rules  Documentation Rules  \\\n",
       "0       1      859  ...                          80                    0   \n",
       "1       1      124  ...                           0                    0   \n",
       "2       1      505  ...                          26                    0   \n",
       "3       1       86  ...                          11                    0   \n",
       "4       1      246  ...                          33                    2   \n",
       "\n",
       "   Error Prone Rules  Inheritance Metric Rules  Multithreading Rules  \\\n",
       "0                  4                         0                     0   \n",
       "1                  0                         0                     0   \n",
       "2                  2                         0                     0   \n",
       "3                  1                         0                     0   \n",
       "4                  0                         0                     0   \n",
       "\n",
       "   Performance Rules  Security Rules  Size Metric Rules  isDefective  \\\n",
       "0                 18               0                 21            1   \n",
       "1                  0               0                  0            0   \n",
       "2                  1               0                 10            0   \n",
       "3                  1               0                  2            0   \n",
       "4                  1               0                  7            0   \n",
       "\n",
       "   Unnamed: 92  \n",
       "0          NaN  \n",
       "1          NaN  \n",
       "2          NaN  \n",
       "3          NaN  \n",
       "4          NaN  \n",
       "\n",
       "[5 rows x 93 columns]"
      ]
     },
     "execution_count": 2,
     "metadata": {},
     "output_type": "execute_result"
    }
   ],
   "source": [
    "df = pd.read_csv(\"data/metrics.csv\")\n",
    "df.head()"
   ]
  },
  {
   "cell_type": "code",
   "execution_count": 3,
   "id": "58998133",
   "metadata": {},
   "outputs": [
    {
     "data": {
      "text/plain": [
       "<AxesSubplot:>"
      ]
     },
     "execution_count": 3,
     "metadata": {},
     "output_type": "execute_result"
    },
    {
     "data": {
      "image/png": "[encoded data removed]",
      "text/plain": [
       "<Figure size 432x288 with 1 Axes>"
      ]
     },
     "metadata": {
      "needs_background": "light"
     },
     "output_type": "display_data"
    }
   ],
   "source": [
    "df['LOC'].value_counts().sort_index().plot.area()"
   ]
  },
  {
   "cell_type": "code",
   "execution_count": 4,
   "id": "90438802",
   "metadata": {},
   "outputs": [
    {
     "data": {
      "text/plain": [
       "<AxesSubplot:>"
      ]
     },
     "execution_count": 4,
     "metadata": {},
     "output_type": "execute_result"
    },
    {
     "data": {
      "image/png": "[encoded data removed]",
      "text/plain": [
       "<Figure size 432x288 with 1 Axes>"
      ]
     },
     "metadata": {
      "needs_background": "light"
     },
     "output_type": "display_data"
    }
   ],
   "source": [
    "# df[df['LOC'] < 200]['LOC'].plot.hist()\n",
    "df[df['LOC'] < 100]['LOC'].value_counts().sort_index().plot.area()"
   ]
  },
  {
   "cell_type": "code",
   "execution_count": null,
   "id": "f756bdff",
   "metadata": {},
   "outputs": [],
   "source": []
  }
 ],
 "metadata": {
  "kernelspec": {
   "display_name": "Python 3 (ipykernel)",
   "language": "python",
   "name": "python3"
  },
  "language_info": {
   "codemirror_mode": {
    "name": "ipython",
    "version": 3
   },
   "file_extension": ".py",
   "mimetype": "text/x-python",
   "name": "python",
   "nbconvert_exporter": "python",
   "pygments_lexer": "ipython3",
   "version": "3.9.7"
  }
 },
 "nbformat": 4,
 "nbformat_minor": 5
}
