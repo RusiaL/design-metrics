{
 "cells": [
  {
   "cell_type": "code",
   "execution_count": 1,
   "id": "42466ca7",
   "metadata": {},
   "outputs": [],
   "source": [
    "import pandas as pd\n",
    "import numpy as np\n",
    "\n",
    "from sklearn.model_selection import train_test_split\n",
    "from sklearn.ensemble import RandomForestRegressor\n",
    "\n",
    "import seaborn as sns\n",
    "import matplotlib.pyplot as plt\n",
    "\n",
    "%matplotlib inline"
   ]
  },
  {
   "cell_type": "code",
   "execution_count": 2,
   "id": "8b7912d1",
   "metadata": {
    "scrolled": true
   },
   "outputs": [
    {
     "data": {
      "text/html": [
       "<div>\n",
       "<style scoped>\n",
       "    .dataframe tbody tr th:only-of-type {\n",
       "        vertical-align: middle;\n",
       "    }\n",
       "\n",
       "    .dataframe tbody tr th {\n",
       "        vertical-align: top;\n",
       "    }\n",
       "\n",
       "    .dataframe thead th {\n",
       "        text-align: right;\n",
       "    }\n",
       "</style>\n",
       "<table border=\"1\" class=\"dataframe\">\n",
       "  <thead>\n",
       "    <tr style=\"text-align: right;\">\n",
       "      <th></th>\n",
       "      <th>Project</th>\n",
       "      <th>ID</th>\n",
       "      <th>Name</th>\n",
       "      <th>LongName</th>\n",
       "      <th>Parent</th>\n",
       "      <th>Component</th>\n",
       "      <th>Path</th>\n",
       "      <th>Line</th>\n",
       "      <th>Column</th>\n",
       "      <th>EndLine</th>\n",
       "      <th>...</th>\n",
       "      <th>Documentation Metric Rules</th>\n",
       "      <th>Documentation Rules</th>\n",
       "      <th>Error Prone Rules</th>\n",
       "      <th>Inheritance Metric Rules</th>\n",
       "      <th>Multithreading Rules</th>\n",
       "      <th>Performance Rules</th>\n",
       "      <th>Security Rules</th>\n",
       "      <th>Size Metric Rules</th>\n",
       "      <th>isDefective</th>\n",
       "      <th>Unnamed: 92</th>\n",
       "    </tr>\n",
       "  </thead>\n",
       "  <tbody>\n",
       "    <tr>\n",
       "      <th>0</th>\n",
       "      <td>antlr4</td>\n",
       "      <td>L134</td>\n",
       "      <td>Tool</td>\n",
       "      <td>org.antlr.v4.Tool</td>\n",
       "      <td>L500</td>\n",
       "      <td>L103</td>\n",
       "      <td>C:\\Users\\domco\\Desktop\\DP\\repos\\antlr4\\tool\\sr...</td>\n",
       "      <td>89</td>\n",
       "      <td>1</td>\n",
       "      <td>859</td>\n",
       "      <td>...</td>\n",
       "      <td>80</td>\n",
       "      <td>0</td>\n",
       "      <td>4</td>\n",
       "      <td>0</td>\n",
       "      <td>0</td>\n",
       "      <td>18</td>\n",
       "      <td>0</td>\n",
       "      <td>21</td>\n",
       "      <td>1</td>\n",
       "      <td>NaN</td>\n",
       "    </tr>\n",
       "    <tr>\n",
       "      <th>1</th>\n",
       "      <td>antlr4</td>\n",
       "      <td>L125</td>\n",
       "      <td>Antlr4ErrorLog</td>\n",
       "      <td>org.antlr.mojo.antlr4.Antlr4ErrorLog</td>\n",
       "      <td>L107</td>\n",
       "      <td>L103</td>\n",
       "      <td>C:\\Users\\domco\\Desktop\\DP\\repos\\antlr4\\antlr4-...</td>\n",
       "      <td>47</td>\n",
       "      <td>1</td>\n",
       "      <td>124</td>\n",
       "      <td>...</td>\n",
       "      <td>0</td>\n",
       "      <td>0</td>\n",
       "      <td>0</td>\n",
       "      <td>0</td>\n",
       "      <td>0</td>\n",
       "      <td>0</td>\n",
       "      <td>0</td>\n",
       "      <td>0</td>\n",
       "      <td>0</td>\n",
       "      <td>NaN</td>\n",
       "    </tr>\n",
       "    <tr>\n",
       "      <th>2</th>\n",
       "      <td>antlr4</td>\n",
       "      <td>L199</td>\n",
       "      <td>Antlr4Mojo</td>\n",
       "      <td>org.antlr.mojo.antlr4.Antlr4Mojo</td>\n",
       "      <td>L107</td>\n",
       "      <td>L103</td>\n",
       "      <td>C:\\Users\\domco\\Desktop\\DP\\repos\\antlr4\\antlr4-...</td>\n",
       "      <td>77</td>\n",
       "      <td>1</td>\n",
       "      <td>505</td>\n",
       "      <td>...</td>\n",
       "      <td>26</td>\n",
       "      <td>0</td>\n",
       "      <td>2</td>\n",
       "      <td>0</td>\n",
       "      <td>0</td>\n",
       "      <td>1</td>\n",
       "      <td>0</td>\n",
       "      <td>10</td>\n",
       "      <td>0</td>\n",
       "      <td>NaN</td>\n",
       "    </tr>\n",
       "    <tr>\n",
       "      <th>3</th>\n",
       "      <td>antlr4</td>\n",
       "      <td>L643</td>\n",
       "      <td>ANTLRFileStream</td>\n",
       "      <td>org.antlr.v4.runtime.ANTLRFileStream</td>\n",
       "      <td>L507</td>\n",
       "      <td>L103</td>\n",
       "      <td>C:\\Users\\domco\\Desktop\\DP\\repos\\antlr4\\runtime...</td>\n",
       "      <td>42</td>\n",
       "      <td>1</td>\n",
       "      <td>86</td>\n",
       "      <td>...</td>\n",
       "      <td>11</td>\n",
       "      <td>0</td>\n",
       "      <td>1</td>\n",
       "      <td>0</td>\n",
       "      <td>0</td>\n",
       "      <td>1</td>\n",
       "      <td>0</td>\n",
       "      <td>2</td>\n",
       "      <td>0</td>\n",
       "      <td>NaN</td>\n",
       "    </tr>\n",
       "    <tr>\n",
       "      <th>4</th>\n",
       "      <td>antlr4</td>\n",
       "      <td>L645</td>\n",
       "      <td>ANTLRInputStream</td>\n",
       "      <td>org.antlr.v4.runtime.ANTLRInputStream</td>\n",
       "      <td>L507</td>\n",
       "      <td>L103</td>\n",
       "      <td>C:\\Users\\domco\\Desktop\\DP\\repos\\antlr4\\runtime...</td>\n",
       "      <td>47</td>\n",
       "      <td>1</td>\n",
       "      <td>246</td>\n",
       "      <td>...</td>\n",
       "      <td>33</td>\n",
       "      <td>2</td>\n",
       "      <td>0</td>\n",
       "      <td>0</td>\n",
       "      <td>0</td>\n",
       "      <td>1</td>\n",
       "      <td>0</td>\n",
       "      <td>7</td>\n",
       "      <td>0</td>\n",
       "      <td>NaN</td>\n",
       "    </tr>\n",
       "  </tbody>\n",
       "</table>\n",
       "<p>5 rows × 93 columns</p>\n",
       "</div>"
      ],
      "text/plain": [
       "  Project    ID              Name                               LongName  \\\n",
       "0  antlr4  L134              Tool                      org.antlr.v4.Tool   \n",
       "1  antlr4  L125    Antlr4ErrorLog   org.antlr.mojo.antlr4.Antlr4ErrorLog   \n",
       "2  antlr4  L199        Antlr4Mojo       org.antlr.mojo.antlr4.Antlr4Mojo   \n",
       "3  antlr4  L643   ANTLRFileStream   org.antlr.v4.runtime.ANTLRFileStream   \n",
       "4  antlr4  L645  ANTLRInputStream  org.antlr.v4.runtime.ANTLRInputStream   \n",
       "\n",
       "  Parent Component                                               Path  Line  \\\n",
       "0   L500      L103  C:\\Users\\domco\\Desktop\\DP\\repos\\antlr4\\tool\\sr...    89   \n",
       "1   L107      L103  C:\\Users\\domco\\Desktop\\DP\\repos\\antlr4\\antlr4-...    47   \n",
       "2   L107      L103  C:\\Users\\domco\\Desktop\\DP\\repos\\antlr4\\antlr4-...    77   \n",
       "3   L507      L103  C:\\Users\\domco\\Desktop\\DP\\repos\\antlr4\\runtime...    42   \n",
       "4   L507      L103  C:\\Users\\domco\\Desktop\\DP\\repos\\antlr4\\runtime...    47   \n",
       "\n",
       "   Column  EndLine  ...  Documentation Metric Rules  Documentation Rules  \\\n",
       "0       1      859  ...                          80                    0   \n",
       "1       1      124  ...                           0                    0   \n",
       "2       1      505  ...                          26                    0   \n",
       "3       1       86  ...                          11                    0   \n",
       "4       1      246  ...                          33                    2   \n",
       "\n",
       "   Error Prone Rules  Inheritance Metric Rules  Multithreading Rules  \\\n",
       "0                  4                         0                     0   \n",
       "1                  0                         0                     0   \n",
       "2                  2                         0                     0   \n",
       "3                  1                         0                     0   \n",
       "4                  0                         0                     0   \n",
       "\n",
       "   Performance Rules  Security Rules  Size Metric Rules  isDefective  \\\n",
       "0                 18               0                 21            1   \n",
       "1                  0               0                  0            0   \n",
       "2                  1               0                 10            0   \n",
       "3                  1               0                  2            0   \n",
       "4                  1               0                  7            0   \n",
       "\n",
       "   Unnamed: 92  \n",
       "0          NaN  \n",
       "1          NaN  \n",
       "2          NaN  \n",
       "3          NaN  \n",
       "4          NaN  \n",
       "\n",
       "[5 rows x 93 columns]"
      ]
     },
     "execution_count": 2,
     "metadata": {},
     "output_type": "execute_result"
    }
   ],
   "source": [
    "df = pd.read_csv(\"data/metrics.csv\")\n",
    "# df = pd.read_csv(\"data/antlr4.csv\")\n",
    "# df = pd.read_csv(\"data/discord4j.csv\")\n",
    "# df = pd.read_csv(\"data/junit4.csv\")\n",
    "df.head()"
   ]
  },
  {
   "cell_type": "markdown",
   "id": "d4a3818b",
   "metadata": {},
   "source": [
    "## Take the working set of reatures\n",
    "NOA: Number of Attributes <br>\n",
    "NOP: Number of Parameters <br>\n",
    "NOC: Number of Children <br>\n",
    "CBO: Coupling Between Objects <br>\n",
    "DIT: Depth Inheritance Tree <br>\n",
    "RFC: Response for a Class <br>\n",
    "LCOM5: Lack of Cohesion of Methods <br>\n",
    "<i>Labels</i><br>\n",
    "LOC: Line of Code <br>"
   ]
  },
  {
   "cell_type": "code",
   "execution_count": 3,
   "id": "a8426487",
   "metadata": {
    "scrolled": true
   },
   "outputs": [],
   "source": [
    "# Labels are the values we want to predict\n",
    "labels = np.array(df['LOC'])\n",
    "\n",
    "# Remove the labels from the working dataset\n",
    "features = df[['NOA', 'NOP', 'NOC', 'CBO', 'DIT', 'RFC', 'LCOM5']]\n",
    "\n",
    "# Saving feature names for later use\n",
    "feature_list = list(features.columns)\n",
    "\n",
    "# Convert to numpy array\n",
    "features = np.array(features)"
   ]
  },
  {
   "cell_type": "code",
   "execution_count": 4,
   "id": "0cd3d6d9",
   "metadata": {},
   "outputs": [
    {
     "name": "stdout",
     "output_type": "stream",
     "text": [
      "Training Features Shape: (1679, 7)\n",
      "Training Labels Shape: (1679,)\n",
      "Testing Features Shape: (720, 7)\n",
      "Testing Labels Shape: (720,)\n"
     ]
    }
   ],
   "source": [
    "# Split the data into training and testing set\n",
    "train_features, test_features, train_labels, test_labels = train_test_split(features, labels, test_size=0.3, random_state=42) \n",
    "\n",
    "# Quick sanity check with the shapes of Training and testing datasets\n",
    "print('Training Features Shape:', train_features.shape)\n",
    "print('Training Labels Shape:', train_labels.shape)\n",
    "print('Testing Features Shape:', test_features.shape)\n",
    "print('Testing Labels Shape:', test_labels.shape)"
   ]
  },
  {
   "cell_type": "markdown",
   "id": "f6e39ff2",
   "metadata": {},
   "source": [
    "## Traine model"
   ]
  },
  {
   "cell_type": "code",
   "execution_count": 5,
   "id": "2bc6941a",
   "metadata": {},
   "outputs": [
    {
     "data": {
      "text/plain": [
       "RandomForestRegressor(n_estimators=1000, random_state=42)"
      ]
     },
     "execution_count": 5,
     "metadata": {},
     "output_type": "execute_result"
    }
   ],
   "source": [
    "# Instantiate model with 1000 decision trees\n",
    "rf = RandomForestRegressor(n_estimators = 1000, random_state = 42)\n",
    "\n",
    "# Train the model on training data\n",
    "rf.fit(train_features, train_labels)"
   ]
  },
  {
   "cell_type": "markdown",
   "id": "f33cbbf7",
   "metadata": {},
   "source": [
    "## Make prediction"
   ]
  },
  {
   "cell_type": "code",
   "execution_count": 6,
   "id": "b2340f50",
   "metadata": {},
   "outputs": [
    {
     "name": "stdout",
     "output_type": "stream",
     "text": [
      "Mean Absolute Error: 24.26 LOC\n"
     ]
    }
   ],
   "source": [
    "# Use the forest's predict method on the test data\n",
    "predictions = rf.predict(test_features)\n",
    "\n",
    "# Calculate the absolute errors\n",
    "errors = abs(predictions - test_labels)\n",
    "\n",
    "# Print out the mean absolute error (mae)\n",
    "print('Mean Absolute Error:', round(np.mean(errors), 2), 'LOC')"
   ]
  },
  {
   "cell_type": "markdown",
   "id": "138c8958",
   "metadata": {},
   "source": [
    "## Finding the accuracy of the model\n",
    "Using the Mean Absolute Percentage Error (MAPE)"
   ]
  },
  {
   "cell_type": "code",
   "execution_count": 7,
   "id": "23da0e4e",
   "metadata": {},
   "outputs": [
    {
     "name": "stdout",
     "output_type": "stream",
     "text": [
      "Accuracy: 51.3 %\n"
     ]
    }
   ],
   "source": [
    "# Calculate mean absolute percentage error (MAPE)\n",
    "MAPE = 100 * (errors / test_labels)\n",
    "\n",
    "# Calculate and display accuracy\n",
    "accuracy = 100 - np.mean(MAPE)\n",
    "print('Accuracy:', round(accuracy, 2), '%')"
   ]
  },
  {
   "cell_type": "markdown",
   "id": "4a670ecc",
   "metadata": {},
   "source": [
    "## Features importance"
   ]
  },
  {
   "cell_type": "code",
   "execution_count": 8,
   "id": "8a02572d",
   "metadata": {},
   "outputs": [
    {
     "name": "stdout",
     "output_type": "stream",
     "text": [
      "Variable: RFC                  Importance: 0.84\n",
      "Variable: CBO                  Importance: 0.09\n",
      "Variable: LCOM5                Importance: 0.04\n",
      "Variable: NOA                  Importance: 0.02\n",
      "Variable: NOP                  Importance: 0.01\n",
      "Variable: NOC                  Importance: 0.01\n",
      "Variable: DIT                  Importance: 0.01\n"
     ]
    }
   ],
   "source": [
    "# Get numerical feature importances\n",
    "importances = list(rf.feature_importances_)\n",
    "\n",
    "# List of tuples with variable and importance\n",
    "feature_importances = [(feature, round(importance, 2)) for feature, importance in zip(feature_list, importances)]\n",
    "\n",
    "# Sort the feature importances by most important first\n",
    "feature_importances = sorted(feature_importances, key = lambda x: x[1], reverse = True)\n",
    "\n",
    "# Print out the feature and importances \n",
    "for pair in feature_importances:\n",
    "    print('Variable: {:20} Importance: {}'.format(*pair))"
   ]
  },
  {
   "cell_type": "code",
   "execution_count": 9,
   "id": "0e242cec",
   "metadata": {},
   "outputs": [
    {
     "data": {
      "text/plain": [
       "<AxesSubplot:>"
      ]
     },
     "execution_count": 9,
     "metadata": {},
     "output_type": "execute_result"
    },
    {
     "data": {
      "image/png": "[encoded data removed]",
      "text/plain": [
       "<Figure size 720x720 with 2 Axes>"
      ]
     },
     "metadata": {
      "needs_background": "light"
     },
     "output_type": "display_data"
    }
   ],
   "source": [
    "wdf = df[['NOA', 'NOP', 'NOC', 'CBO', 'DIT', 'RFC', 'LCOM5', 'LOC']]\n",
    "\n",
    "# Pairwise correlations\n",
    "plt.figure(figsize=(10,10))\n",
    "sns.heatmap(wdf.corr(), cbar=True, annot=True, cmap='Blues')"
   ]
  },
  {
   "cell_type": "code",
   "execution_count": 10,
   "id": "645ac49e",
   "metadata": {},
   "outputs": [
    {
     "name": "stdout",
     "output_type": "stream",
     "text": [
      "Mean Absolute Error: 26.18 LOC.\n",
      "Accuracy: 40.64 %.\n"
     ]
    }
   ],
   "source": [
    "# New random forest with only the two most important variables\n",
    "rf_most_important = RandomForestRegressor(n_estimators= 1000, random_state=42)\n",
    "\n",
    "# Extract the two most important features\n",
    "important_indices = [feature_list.index('RFC'), feature_list.index('CBO')]\n",
    "train_important = train_features[:, important_indices]\n",
    "test_important = test_features[:, important_indices]\n",
    "\n",
    "# Train the random forest\n",
    "rf_most_important.fit(train_important, train_labels)\n",
    "\n",
    "# Make predictions and determine the error\n",
    "predictions = rf_most_important.predict(test_important)\n",
    "errors = abs(predictions - test_labels)\n",
    "\n",
    "# Display the performance metrics\n",
    "print('Mean Absolute Error:', round(np.mean(errors), 2), 'LOC.')\n",
    "MAPE = np.mean(100 * (errors / test_labels))\n",
    "accuracy = 100 - MAPE\n",
    "print('Accuracy:', round(accuracy, 2), '%.')"
   ]
  },
  {
   "cell_type": "code",
   "execution_count": null,
   "id": "8237f952",
   "metadata": {},
   "outputs": [],
   "source": []
  }
 ],
 "metadata": {
  "kernelspec": {
   "display_name": "Python 3 (ipykernel)",
   "language": "python",
   "name": "python3"
  },
  "language_info": {
   "codemirror_mode": {
    "name": "ipython",
    "version": 3
   },
   "file_extension": ".py",
   "mimetype": "text/x-python",
   "name": "python",
   "nbconvert_exporter": "python",
   "pygments_lexer": "ipython3",
   "version": "3.9.7"
  }
 },
 "nbformat": 4,
 "nbformat_minor": 5
}
